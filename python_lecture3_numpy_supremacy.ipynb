{
 "cells": [
  {
   "cell_type": "markdown",
   "id": "f8119fcd",
   "metadata": {},
   "source": [
    "# Why is it called Python?\n",
    "\n",
    "When he began implementing [Python](https://docs.python.org/3/faq/general.html), Guido van Rossum was also reading the published scripts from “Monty Python’s Flying Circus”, a BBC comedy series from the 1970s. Van Rossum thought he needed a name that was short, unique, and slightly mysterious, so he decided to call the language Python.\n",
    "\n",
    "![guido van rossum](https://gvanrossum.github.io/images/guido-headshot-2019.jpg)"
   ]
  },
  {
   "cell_type": "markdown",
   "id": "fefe8e5b",
   "metadata": {},
   "source": [
    "# NumPy\n",
    "\n",
    "Numerical Python\n",
    "NumPy is the swiss-army knife of Python. It is the preferred method for working with numbers. NumPy are optimized libaries that actually run faster than the built-in Python methods.\n",
    "\n",
    "Most Python analysis packages prefer NumPy arrays.\n"
   ]
  },
  {
   "cell_type": "code",
   "execution_count": 1,
   "id": "499efbc0",
   "metadata": {},
   "outputs": [],
   "source": [
    "import numpy as np"
   ]
  },
  {
   "cell_type": "code",
   "execution_count": 2,
   "id": "f0a80ef0",
   "metadata": {},
   "outputs": [
    {
     "data": {
      "text/plain": [
       "array([[ 0,  1,  2,  3,  4],\n",
       "       [ 5,  6,  7,  8,  9],\n",
       "       [10, 11, 12, 13, 14]])"
      ]
     },
     "execution_count": 2,
     "metadata": {},
     "output_type": "execute_result"
    }
   ],
   "source": [
    "a = np.arange(15).reshape(3, 5) # Creates a 3x5 NumPy array with values in [0, 14]\n",
    "a"
   ]
  },
  {
   "cell_type": "markdown",
   "id": "dd9efa2e",
   "metadata": {},
   "source": [
    "# Difference between range and arange?\n",
    "\n",
    "The Python function range returns an iterator (a function that generates an output). It is not an actual array from 0 to 14.\n",
    "\n",
    "The NumPy function arange() returns an actual array."
   ]
  },
  {
   "cell_type": "code",
   "execution_count": 3,
   "id": "0481e4ed",
   "metadata": {},
   "outputs": [],
   "source": [
    "b = range(15)"
   ]
  },
  {
   "cell_type": "code",
   "execution_count": 4,
   "id": "cbc4978c",
   "metadata": {},
   "outputs": [
    {
     "data": {
      "text/plain": [
       "range(0, 15)"
      ]
     },
     "execution_count": 4,
     "metadata": {},
     "output_type": "execute_result"
    }
   ],
   "source": [
    "b"
   ]
  },
  {
   "cell_type": "code",
   "execution_count": 5,
   "id": "0d64f774",
   "metadata": {},
   "outputs": [
    {
     "data": {
      "text/plain": [
       "array([[ 0,  1,  2,  3,  4],\n",
       "       [ 5,  6,  7,  8,  9],\n",
       "       [10, 11, 12, 13, 14]])"
      ]
     },
     "execution_count": 5,
     "metadata": {},
     "output_type": "execute_result"
    }
   ],
   "source": [
    "a"
   ]
  },
  {
   "cell_type": "code",
   "execution_count": 6,
   "id": "94e5c0e3-554e-4627-bf3b-a1f8ad105d00",
   "metadata": {},
   "outputs": [
    {
     "data": {
      "text/plain": [
       "(3, 5)"
      ]
     },
     "execution_count": 6,
     "metadata": {},
     "output_type": "execute_result"
    }
   ],
   "source": [
    "a.shape"
   ]
  },
  {
   "cell_type": "code",
   "execution_count": 7,
   "id": "26a185ef-0413-42d2-9d0f-e3ce93925337",
   "metadata": {},
   "outputs": [
    {
     "data": {
      "text/plain": [
       "5"
      ]
     },
     "execution_count": 7,
     "metadata": {},
     "output_type": "execute_result"
    }
   ],
   "source": [
    "a.shape[1]"
   ]
  },
  {
   "cell_type": "code",
   "execution_count": 59,
   "id": "cd34afc3-b184-4644-b18e-b080411ccb69",
   "metadata": {},
   "outputs": [
    {
     "data": {
      "text/plain": [
       "2"
      ]
     },
     "execution_count": 59,
     "metadata": {},
     "output_type": "execute_result"
    }
   ],
   "source": [
    "a.ndim"
   ]
  },
  {
   "cell_type": "code",
   "execution_count": 8,
   "id": "3099c90b-c462-41e5-b99e-3b6320da4f8d",
   "metadata": {},
   "outputs": [
    {
     "data": {
      "text/plain": [
       "3"
      ]
     },
     "execution_count": 8,
     "metadata": {},
     "output_type": "execute_result"
    }
   ],
   "source": [
    "len(a)"
   ]
  },
  {
   "cell_type": "markdown",
   "id": "2c2685da",
   "metadata": {},
   "source": [
    "# Converting regular Python arrays to NumPy arrays"
   ]
  },
  {
   "cell_type": "code",
   "execution_count": 9,
   "id": "9732b34b",
   "metadata": {},
   "outputs": [
    {
     "name": "stdout",
     "output_type": "stream",
     "text": [
      "<class 'list'>\n"
     ]
    }
   ],
   "source": [
    "c = [3,4,7,8,10]\n",
    "print(type(c))"
   ]
  },
  {
   "cell_type": "code",
   "execution_count": 10,
   "id": "004f13ae",
   "metadata": {},
   "outputs": [
    {
     "name": "stdout",
     "output_type": "stream",
     "text": [
      "<class 'numpy.ndarray'>\n"
     ]
    }
   ],
   "source": [
    "d = np.array(c)\n",
    "print(type(d))"
   ]
  },
  {
   "cell_type": "code",
   "execution_count": 11,
   "id": "56306a0c",
   "metadata": {},
   "outputs": [
    {
     "data": {
      "text/plain": [
       "array([ True])"
      ]
     },
     "execution_count": 11,
     "metadata": {},
     "output_type": "execute_result"
    }
   ],
   "source": [
    "s = np.array(['hello'])\n",
    "np.char.isalpha(s)"
   ]
  },
  {
   "cell_type": "code",
   "execution_count": 12,
   "id": "dc714c0e",
   "metadata": {},
   "outputs": [
    {
     "data": {
      "text/plain": [
       "array([False])"
      ]
     },
     "execution_count": 12,
     "metadata": {},
     "output_type": "execute_result"
    }
   ],
   "source": [
    "s = np.array(['hello7'])\n",
    "np.char.isalpha(s)"
   ]
  },
  {
   "cell_type": "markdown",
   "id": "1deb5200",
   "metadata": {},
   "source": [
    "# Special NumPy array generators"
   ]
  },
  {
   "cell_type": "code",
   "execution_count": 13,
   "id": "c3f8d151",
   "metadata": {},
   "outputs": [
    {
     "name": "stdout",
     "output_type": "stream",
     "text": [
      "[[0 0 0]\n",
      " [0 0 0]\n",
      " [0 0 0]] int32\n",
      "\n",
      "\n",
      "[[1. 1.]\n",
      " [1. 1.]] float64\n",
      "\n",
      "\n",
      "[[0.00000000e+000 0.00000000e+000 0.00000000e+000]\n",
      " [0.00000000e+000 0.00000000e+000 0.00000000e+000]\n",
      " [6.09249078e+247 4.95264277e+223 3.95252517e-322]] float64\n"
     ]
    }
   ],
   "source": [
    "zeros = np.zeros((3, 3), dtype=np.int32) # create a 3x3 array of 0's\n",
    "ones = np.ones((2, 2), dtype=np.float64) # create a 2x2 array of 1's\n",
    "empty = np.empty((3, 3))\n",
    "\n",
    "print(zeros, zeros.dtype.name)\n",
    "print(\"\\n\")\n",
    "print(ones, ones.dtype.name)\n",
    "print(\"\\n\")\n",
    "print(empty, empty.dtype.name)"
   ]
  },
  {
   "cell_type": "code",
   "execution_count": 14,
   "id": "3812e343",
   "metadata": {},
   "outputs": [
    {
     "name": "stdout",
     "output_type": "stream",
     "text": [
      "[ 5  9 13 17 21 25 29]\n"
     ]
    }
   ],
   "source": [
    "a = np.arange(5, 30, 4) # create array from range [5, 30) with step of 4\n",
    "print(a)"
   ]
  },
  {
   "cell_type": "code",
   "execution_count": 15,
   "id": "58a352f5",
   "metadata": {},
   "outputs": [
    {
     "name": "stdout",
     "output_type": "stream",
     "text": [
      "[0.         0.01010101 0.02020202 0.03030303 0.04040404 0.05050505\n",
      " 0.06060606 0.07070707 0.08080808 0.09090909 0.1010101  0.11111111\n",
      " 0.12121212 0.13131313 0.14141414 0.15151515 0.16161616 0.17171717\n",
      " 0.18181818 0.19191919 0.2020202  0.21212121 0.22222222 0.23232323\n",
      " 0.24242424 0.25252525 0.26262626 0.27272727 0.28282828 0.29292929\n",
      " 0.3030303  0.31313131 0.32323232 0.33333333 0.34343434 0.35353535\n",
      " 0.36363636 0.37373737 0.38383838 0.39393939 0.4040404  0.41414141\n",
      " 0.42424242 0.43434343 0.44444444 0.45454545 0.46464646 0.47474747\n",
      " 0.48484848 0.49494949 0.50505051 0.51515152 0.52525253 0.53535354\n",
      " 0.54545455 0.55555556 0.56565657 0.57575758 0.58585859 0.5959596\n",
      " 0.60606061 0.61616162 0.62626263 0.63636364 0.64646465 0.65656566\n",
      " 0.66666667 0.67676768 0.68686869 0.6969697  0.70707071 0.71717172\n",
      " 0.72727273 0.73737374 0.74747475 0.75757576 0.76767677 0.77777778\n",
      " 0.78787879 0.7979798  0.80808081 0.81818182 0.82828283 0.83838384\n",
      " 0.84848485 0.85858586 0.86868687 0.87878788 0.88888889 0.8989899\n",
      " 0.90909091 0.91919192 0.92929293 0.93939394 0.94949495 0.95959596\n",
      " 0.96969697 0.97979798 0.98989899 1.        ]\n"
     ]
    }
   ],
   "source": [
    "b = np.linspace(0, 1, 100) # create array of 100 values between 0 and 1\n",
    "print(b)"
   ]
  },
  {
   "cell_type": "code",
   "execution_count": 16,
   "id": "fed3c89a",
   "metadata": {},
   "outputs": [
    {
     "name": "stdout",
     "output_type": "stream",
     "text": [
      "3.141592653589793\n"
     ]
    }
   ],
   "source": [
    "print(np.pi)  # Pi"
   ]
  },
  {
   "cell_type": "code",
   "execution_count": 17,
   "id": "d02bdaf2",
   "metadata": {},
   "outputs": [
    {
     "name": "stdout",
     "output_type": "stream",
     "text": [
      "nan\n"
     ]
    }
   ],
   "source": [
    "print(np.nan)"
   ]
  },
  {
   "cell_type": "code",
   "execution_count": 18,
   "id": "82e75ab8",
   "metadata": {},
   "outputs": [
    {
     "name": "stdout",
     "output_type": "stream",
     "text": [
      "inf\n"
     ]
    }
   ],
   "source": [
    "print(np.Infinity)"
   ]
  },
  {
   "cell_type": "code",
   "execution_count": 19,
   "id": "9a797956",
   "metadata": {},
   "outputs": [
    {
     "name": "stdout",
     "output_type": "stream",
     "text": [
      "2.718281828459045\n"
     ]
    }
   ],
   "source": [
    "print(np.e)"
   ]
  },
  {
   "cell_type": "code",
   "execution_count": 20,
   "id": "89c68300",
   "metadata": {
    "scrolled": true
   },
   "outputs": [
    {
     "data": {
      "text/plain": [
       "numpy.datetime64('2021-09-07')"
      ]
     },
     "execution_count": 20,
     "metadata": {},
     "output_type": "execute_result"
    }
   ],
   "source": [
    "np.datetime64('today') # today's date"
   ]
  },
  {
   "cell_type": "code",
   "execution_count": 21,
   "id": "fa61798f",
   "metadata": {},
   "outputs": [
    {
     "data": {
      "text/plain": [
       "numpy.datetime64('2021-09-07T21:39:37')"
      ]
     },
     "execution_count": 21,
     "metadata": {},
     "output_type": "execute_result"
    }
   ],
   "source": [
    "np.datetime64('now') # timestamp right now "
   ]
  },
  {
   "cell_type": "code",
   "execution_count": 22,
   "id": "10c8c152",
   "metadata": {},
   "outputs": [
    {
     "data": {
      "text/plain": [
       "array(['2021-09-01', '2021-09-04', '2021-09-07', '2021-09-10',\n",
       "       '2021-09-13', '2021-09-16', '2021-09-19', '2021-09-22',\n",
       "       '2021-09-25', '2021-09-28', '2021-10-01', '2021-10-04'],\n",
       "      dtype='datetime64[D]')"
      ]
     },
     "execution_count": 22,
     "metadata": {},
     "output_type": "execute_result"
    }
   ],
   "source": [
    "np.arange('2021-09', '2021-10-05', 3, dtype='datetime64[D]')"
   ]
  },
  {
   "cell_type": "markdown",
   "id": "f8319344-0eb1-45bf-ba29-a05b85215a4f",
   "metadata": {},
   "source": [
    "# Boolean searches"
   ]
  },
  {
   "cell_type": "code",
   "execution_count": 23,
   "id": "aaf0be22",
   "metadata": {},
   "outputs": [
    {
     "data": {
      "text/plain": [
       "array([-7. , -9.2])"
      ]
     },
     "execution_count": 23,
     "metadata": {},
     "output_type": "execute_result"
    }
   ],
   "source": [
    "d = np.array([1.3, 12.5, -7, 15, 0.789, -9.2, 1.3])\n",
    "d[d <= -2]"
   ]
  },
  {
   "cell_type": "code",
   "execution_count": 24,
   "id": "9ba228a2",
   "metadata": {},
   "outputs": [
    {
     "data": {
      "text/plain": [
       "array([1.3, 1.3])"
      ]
     },
     "execution_count": 24,
     "metadata": {},
     "output_type": "execute_result"
    }
   ],
   "source": [
    "d[d == 1.3]"
   ]
  },
  {
   "cell_type": "code",
   "execution_count": 25,
   "id": "1d249112",
   "metadata": {},
   "outputs": [
    {
     "name": "stdout",
     "output_type": "stream",
     "text": [
      "The largest value of 56.6 is found at position 3 in the array.\n",
      "The smallest value of -901.7 is found at position 8 in the array.\n"
     ]
    }
   ],
   "source": [
    "r = [4, 5, -2, 56.6, 23, -300.45, 50.1, -3.9, -901.7]\n",
    "print(f'The largest value of {np.max(r)} is found at position {np.argmax(r)} in the array.')\n",
    "print(f'The smallest value of {np.min(r)} is found at position {np.argmin(r)} in the array.')"
   ]
  },
  {
   "cell_type": "code",
   "execution_count": 65,
   "id": "fcea189d-ea4f-4719-a313-2ce7457cebdd",
   "metadata": {},
   "outputs": [],
   "source": [
    "y1 = np.array([5, -2, 3, 4, 4, 5, 10])\n",
    "y2 = np.array([1, -2, 4, 3, 4, 5, 99])"
   ]
  },
  {
   "cell_type": "code",
   "execution_count": 66,
   "id": "ac56ea6c-fe98-4827-8697-392f517f44b2",
   "metadata": {},
   "outputs": [
    {
     "data": {
      "text/plain": [
       "array([False,  True, False, False,  True,  True, False])"
      ]
     },
     "execution_count": 66,
     "metadata": {},
     "output_type": "execute_result"
    }
   ],
   "source": [
    "y1 == y2"
   ]
  },
  {
   "cell_type": "code",
   "execution_count": 67,
   "id": "51be0e05-1c57-4c46-9489-9b4a89b0a1f2",
   "metadata": {},
   "outputs": [
    {
     "data": {
      "text/plain": [
       "array([False, False,  True, False, False, False,  True])"
      ]
     },
     "execution_count": 67,
     "metadata": {},
     "output_type": "execute_result"
    }
   ],
   "source": [
    "y1 < y2"
   ]
  },
  {
   "cell_type": "code",
   "execution_count": 68,
   "id": "71bc0bf0-7d04-4ed5-bfc4-a68c4a5b61ae",
   "metadata": {},
   "outputs": [
    {
     "data": {
      "text/plain": [
       "False"
      ]
     },
     "execution_count": 68,
     "metadata": {},
     "output_type": "execute_result"
    }
   ],
   "source": [
    "np.array_equal(y1, y2)"
   ]
  },
  {
   "cell_type": "markdown",
   "id": "5e1c3b11",
   "metadata": {},
   "source": [
    "# Simple Statistics\n",
    "\n",
    "https://numpy.org/doc/stable/reference/routines.statistics.html"
   ]
  },
  {
   "cell_type": "code",
   "execution_count": 26,
   "id": "10f7bf38",
   "metadata": {},
   "outputs": [
    {
     "data": {
      "text/plain": [
       "-118.81666666666668"
      ]
     },
     "execution_count": 26,
     "metadata": {},
     "output_type": "execute_result"
    }
   ],
   "source": [
    "np.mean(r)"
   ]
  },
  {
   "cell_type": "code",
   "execution_count": 27,
   "id": "1f2e34d9",
   "metadata": {},
   "outputs": [
    {
     "data": {
      "text/plain": [
       "294.87836852204373"
      ]
     },
     "execution_count": 27,
     "metadata": {},
     "output_type": "execute_result"
    }
   ],
   "source": [
    "np.std(r)"
   ]
  },
  {
   "cell_type": "code",
   "execution_count": 28,
   "id": "0db1b66c-a3bb-41f9-b79b-b27d1cce40f3",
   "metadata": {},
   "outputs": [
    {
     "data": {
      "text/plain": [
       "86953.25222222222"
      ]
     },
     "execution_count": 28,
     "metadata": {},
     "output_type": "execute_result"
    }
   ],
   "source": [
    "np.var(r)"
   ]
  },
  {
   "cell_type": "code",
   "execution_count": 29,
   "id": "ac743a8a",
   "metadata": {},
   "outputs": [
    {
     "name": "stdout",
     "output_type": "stream",
     "text": [
      "Mean = -16.9150\n"
     ]
    }
   ],
   "source": [
    "m = np.array([10.5, -100, 5.6, 16.24])\n",
    "\n",
    "print(f'Mean = {m.mean():.4f}')"
   ]
  },
  {
   "cell_type": "code",
   "execution_count": 30,
   "id": "76843523",
   "metadata": {},
   "outputs": [
    {
     "name": "stdout",
     "output_type": "stream",
     "text": [
      "Nan Mean = -16.9150\n"
     ]
    }
   ],
   "source": [
    "m2 = np.array([np.nan, 10.5, -100, np.nan, 5.6, 16.24])\n",
    "\n",
    "print(f'Nan Mean = {np.nanmean(m2):.4f}')\n"
   ]
  },
  {
   "cell_type": "code",
   "execution_count": 31,
   "id": "f3cfe7d5-c336-4912-bdab-22d4ef49a131",
   "metadata": {},
   "outputs": [
    {
     "data": {
      "text/plain": [
       "8.05"
      ]
     },
     "execution_count": 31,
     "metadata": {},
     "output_type": "execute_result"
    }
   ],
   "source": [
    "np.median(m)"
   ]
  },
  {
   "cell_type": "code",
   "execution_count": 32,
   "id": "00ea402f-6881-4512-a03e-c633592558f3",
   "metadata": {},
   "outputs": [],
   "source": [
    "m3 = np.array([[3,5,4], [1,2,-3], [0.4, 12.3, 1], [102.4, 3, -9], [-44, -0.7, 22.6]])"
   ]
  },
  {
   "cell_type": "code",
   "execution_count": 33,
   "id": "2cdd711b-d7c7-49bb-b22e-a8687a75064a",
   "metadata": {},
   "outputs": [
    {
     "data": {
      "text/plain": [
       "(5, 3)"
      ]
     },
     "execution_count": 33,
     "metadata": {},
     "output_type": "execute_result"
    }
   ],
   "source": [
    "m3.shape"
   ]
  },
  {
   "cell_type": "code",
   "execution_count": 34,
   "id": "a064ab41-d285-4228-a4e1-0df90cce1f04",
   "metadata": {},
   "outputs": [
    {
     "data": {
      "text/plain": [
       "3"
      ]
     },
     "execution_count": 34,
     "metadata": {},
     "output_type": "execute_result"
    }
   ],
   "source": [
    "m3.shape[1]"
   ]
  },
  {
   "cell_type": "code",
   "execution_count": 35,
   "id": "b5f6af04-72e9-4fc9-9c08-08de58821e56",
   "metadata": {},
   "outputs": [
    {
     "data": {
      "text/plain": [
       "6.666666666666669"
      ]
     },
     "execution_count": 35,
     "metadata": {},
     "output_type": "execute_result"
    }
   ],
   "source": [
    "np.mean(m3)"
   ]
  },
  {
   "cell_type": "code",
   "execution_count": 36,
   "id": "9cd0e435-950d-425c-bf44-1e49a4d2bde5",
   "metadata": {},
   "outputs": [
    {
     "data": {
      "text/plain": [
       "array([12.56,  4.32,  3.12])"
      ]
     },
     "execution_count": 36,
     "metadata": {},
     "output_type": "execute_result"
    }
   ],
   "source": [
    "np.mean(m3, axis=0)"
   ]
  },
  {
   "cell_type": "code",
   "execution_count": 37,
   "id": "6d772f48-22ba-46f1-8d89-2d64ab4565ac",
   "metadata": {},
   "outputs": [
    {
     "data": {
      "text/plain": [
       "array([ 4.        ,  0.        ,  4.56666667, 32.13333333, -7.36666667])"
      ]
     },
     "execution_count": 37,
     "metadata": {},
     "output_type": "execute_result"
    }
   ],
   "source": [
    "np.mean(m3, axis=1)"
   ]
  },
  {
   "cell_type": "code",
   "execution_count": 38,
   "id": "d7c3f23b-d049-4f28-bde8-d65661c13f18",
   "metadata": {},
   "outputs": [
    {
     "data": {
      "text/plain": [
       "array([[1.        , 0.99535001],\n",
       "       [0.99535001, 1.        ]])"
      ]
     },
     "execution_count": 38,
     "metadata": {},
     "output_type": "execute_result"
    }
   ],
   "source": [
    "a = np.array([1,2,3,4,6,7,8,9])\n",
    "b = np.array([2,4,6,8,10,12,13,15])\n",
    "\n",
    "np.corrcoef([a,b])"
   ]
  },
  {
   "cell_type": "code",
   "execution_count": 39,
   "id": "81745858-cf1e-4918-9f3d-e328308b9921",
   "metadata": {},
   "outputs": [],
   "source": [
    "a = np.array([10.2459123, -3.5344, 16, 240.47678, -35.999])"
   ]
  },
  {
   "cell_type": "code",
   "execution_count": 40,
   "id": "eb40e548-3842-4f10-9e2e-a4eb54168cff",
   "metadata": {},
   "outputs": [
    {
     "data": {
      "text/plain": [
       "array([ 10.,  -4.,  16., 240., -36.])"
      ]
     },
     "execution_count": 40,
     "metadata": {},
     "output_type": "execute_result"
    }
   ],
   "source": [
    "np.floor(a)"
   ]
  },
  {
   "cell_type": "code",
   "execution_count": 41,
   "id": "16b6006a-d5ad-4796-a4d9-6b5c88a0ceb2",
   "metadata": {},
   "outputs": [
    {
     "data": {
      "text/plain": [
       "array([ 10.2,  -3.5,  16. , 240.5, -36. ])"
      ]
     },
     "execution_count": 41,
     "metadata": {},
     "output_type": "execute_result"
    }
   ],
   "source": [
    "np.round(a, decimals=1)"
   ]
  },
  {
   "cell_type": "code",
   "execution_count": 42,
   "id": "58393d73-8d9b-4e39-8c45-d45bcb1c361d",
   "metadata": {},
   "outputs": [
    {
     "data": {
      "text/plain": [
       "array([ 10.25,  -3.53,  16.  , 240.48, -36.  ])"
      ]
     },
     "execution_count": 42,
     "metadata": {},
     "output_type": "execute_result"
    }
   ],
   "source": [
    "np.round(a, decimals=2)"
   ]
  },
  {
   "cell_type": "code",
   "execution_count": 43,
   "id": "2f0c131b-39ed-46fb-a9e4-44b4472041b3",
   "metadata": {},
   "outputs": [
    {
     "data": {
      "text/plain": [
       "array([ 11.,  -3.,  16., 241., -35.])"
      ]
     },
     "execution_count": 43,
     "metadata": {},
     "output_type": "execute_result"
    }
   ],
   "source": [
    "np.ceil(a)"
   ]
  },
  {
   "cell_type": "code",
   "execution_count": 70,
   "id": "b596eca3-56fb-44b5-bfc3-63c7a313e059",
   "metadata": {},
   "outputs": [
    {
     "data": {
      "text/plain": [
       "array([[0.        , 1.38629436],\n",
       "       [1.09861229, 0.        ],\n",
       "       [3.09104245, 1.09861229]])"
      ]
     },
     "execution_count": 70,
     "metadata": {},
     "output_type": "execute_result"
    }
   ],
   "source": [
    "np.log(np.abs(a))"
   ]
  },
  {
   "cell_type": "code",
   "execution_count": 76,
   "id": "cb4d2593-914e-4aae-8540-4e1c2b7445db",
   "metadata": {},
   "outputs": [
    {
     "name": "stdout",
     "output_type": "stream",
     "text": [
      "[[ 1  2  3]\n",
      " [ 4  5  6]\n",
      " [ 7  8  9]\n",
      " [10 11 12]]\n"
     ]
    }
   ],
   "source": [
    "a = np.array([[1,2,3], [4,5,6], [7,8,9], [10,11,12]])\n",
    "print(a)"
   ]
  },
  {
   "cell_type": "code",
   "execution_count": 74,
   "id": "5e8022fa-ff4a-4d88-8935-043ef0190f58",
   "metadata": {},
   "outputs": [
    {
     "data": {
      "text/plain": [
       "array([[ 1,  2,  3],\n",
       "       [ 5,  7,  9],\n",
       "       [12, 15, 18],\n",
       "       [22, 26, 30]])"
      ]
     },
     "execution_count": 74,
     "metadata": {},
     "output_type": "execute_result"
    }
   ],
   "source": [
    "np.cumsum(a, axis=0)"
   ]
  },
  {
   "cell_type": "code",
   "execution_count": 75,
   "id": "e38a5fb7-8aa2-4d64-aa50-206c970cca33",
   "metadata": {},
   "outputs": [
    {
     "data": {
      "text/plain": [
       "array([[ 1,  3,  6],\n",
       "       [ 4,  9, 15],\n",
       "       [ 7, 15, 24],\n",
       "       [10, 21, 33]])"
      ]
     },
     "execution_count": 75,
     "metadata": {},
     "output_type": "execute_result"
    }
   ],
   "source": [
    "np.cumsum(a, axis=1)"
   ]
  },
  {
   "cell_type": "markdown",
   "id": "92e77538",
   "metadata": {},
   "source": [
    "# Broadcasting\n",
    "\n",
    "https://numpy.org/doc/stable/user/basics.broadcasting.html\n",
    "\n",
    "The term broadcasting describes how numpy treats arrays with different shapes during arithmetic operations. Subject to certain constraints, the smaller array is “broadcast” across the larger array so that they have compatible shapes."
   ]
  },
  {
   "cell_type": "code",
   "execution_count": 44,
   "id": "2684af96",
   "metadata": {},
   "outputs": [
    {
     "name": "stdout",
     "output_type": "stream",
     "text": [
      "float64\n",
      "[12.2 12.2 12.2 12.2 12.2 12.2 12.2 12.2 12.2 12.2]\n"
     ]
    }
   ],
   "source": [
    "a = np.ones(10, dtype=int) * 5\n",
    "b = np.ones(10, dtype=float) * 10.2 - 3.0\n",
    "\n",
    "a_plus_b = a + b # int + float\n",
    "\n",
    "print(a_plus_b.dtype.name)\n",
    "print(a_plus_b)"
   ]
  },
  {
   "cell_type": "code",
   "execution_count": 45,
   "id": "5cad2b9c",
   "metadata": {},
   "outputs": [
    {
     "name": "stdout",
     "output_type": "stream",
     "text": [
      "[[0.3181365  0.25897361 0.48817566 0.61730491 0.60366161 0.50927346\n",
      "  0.86240971 0.02623363 0.65680232 0.40369365 0.92281138 0.18079477]\n",
      " [0.39633916 0.51159906 0.88418159 0.84861312 0.56905267 0.11232138\n",
      "  0.82960124 0.36844422 0.48378195 0.61671809 0.36971289 0.77166507]\n",
      " [0.85768044 0.64387285 0.27663112 0.87074771 0.74584461 0.44366242\n",
      "  0.00679506 0.26167699 0.21139409 0.56173701 0.6747003  0.553765  ]\n",
      " [0.0958048  0.15895575 0.08829054 0.7315853  0.43848588 0.06985858\n",
      "  0.98274366 0.50426382 0.00318783 0.3539469  0.74831183 0.49150417]\n",
      " [0.60634057 0.53395338 0.13434176 0.72940801 0.20375859 0.75231769\n",
      "  0.54517708 0.03286044 0.68685742 0.57191038 0.34258984 0.43932806]\n",
      " [0.96129204 0.97555105 0.35678569 0.86145499 0.55170982 0.3928231\n",
      "  0.89417668 0.43322079 0.40460562 0.90356574 0.0025588  0.80455721]\n",
      " [0.72403612 0.78200358 0.53608153 0.99023349 0.22163061 0.39799351\n",
      "  0.02637775 0.74462453 0.52678773 0.49195768 0.98924836 0.94672265]\n",
      " [0.86130287 0.13122721 0.7799709  0.02464989 0.62471229 0.05430312\n",
      "  0.14566205 0.97727625 0.51947956 0.26769672 0.66249468 0.02221373]\n",
      " [0.4154651  0.99109422 0.44320637 0.05206435 0.75509882 0.87770999\n",
      "  0.20832529 0.81512431 0.73710572 0.44958271 0.80210543 0.94911194]\n",
      " [0.09992683 0.5000074  0.98551393 0.91160974 0.7425627  0.60392874\n",
      "  0.38230198 0.8750012  0.51031219 0.2970698  0.17909117 0.06128538]]\n",
      "(10, 12)\n"
     ]
    }
   ],
   "source": [
    "a = np.random.random((10, 12))\n",
    "print(a)\n",
    "print(a.shape)"
   ]
  },
  {
   "cell_type": "markdown",
   "id": "33ab3da7",
   "metadata": {},
   "source": [
    "# Fancy indexing\n"
   ]
  },
  {
   "cell_type": "code",
   "execution_count": 46,
   "id": "f5070d9e",
   "metadata": {},
   "outputs": [
    {
     "data": {
      "text/plain": [
       "array([[0.75231769, 0.54517708, 0.03286044, 0.68685742],\n",
       "       [0.3928231 , 0.89417668, 0.43322079, 0.40460562],\n",
       "       [0.39799351, 0.02637775, 0.74462453, 0.52678773],\n",
       "       [0.05430312, 0.14566205, 0.97727625, 0.51947956],\n",
       "       [0.87770999, 0.20832529, 0.81512431, 0.73710572],\n",
       "       [0.60392874, 0.38230198, 0.8750012 , 0.51031219]])"
      ]
     },
     "execution_count": 46,
     "metadata": {},
     "output_type": "execute_result"
    }
   ],
   "source": [
    "a[4:, 5:-3]"
   ]
  },
  {
   "cell_type": "markdown",
   "id": "86df377c",
   "metadata": {},
   "source": [
    "# Random numbers"
   ]
  },
  {
   "cell_type": "code",
   "execution_count": 47,
   "id": "3da4d5b6",
   "metadata": {
    "scrolled": true
   },
   "outputs": [
    {
     "name": "stdout",
     "output_type": "stream",
     "text": [
      "[[155. -13. 155.   3.   3.]\n",
      " [155. 155. -13. 155. 155.]\n",
      " [  3. -13. 155. 155.   3.]]\n",
      "(3, 5)\n"
     ]
    }
   ],
   "source": [
    "a = np.random.choice([3, 4.5, -13, 155], size=(3,5), replace=True)\n",
    "print(a)\n",
    "print(a.shape)"
   ]
  },
  {
   "cell_type": "code",
   "execution_count": 48,
   "id": "c450f2bf",
   "metadata": {},
   "outputs": [
    {
     "name": "stdout",
     "output_type": "stream",
     "text": [
      "[['yes' 'never' 'no' 'never' 'never' 'maybe' 'never' 'yes']]\n",
      "(1, 8)\n"
     ]
    }
   ],
   "source": [
    "a = np.random.choice(['yes', 'no', 'maybe', 'never'], size=(1,8), replace=True)\n",
    "print(a)\n",
    "print(a.shape)"
   ]
  },
  {
   "cell_type": "code",
   "execution_count": 49,
   "id": "c28c77a1",
   "metadata": {},
   "outputs": [],
   "source": [
    "np.random.seed(816)  # Sets the random number generator starting point\n",
    "# Guarantees repeatability in randomness"
   ]
  },
  {
   "cell_type": "markdown",
   "id": "0df3ffeb",
   "metadata": {},
   "source": [
    "# Permutations/Shuffles/Sorts"
   ]
  },
  {
   "cell_type": "code",
   "execution_count": 50,
   "id": "7eb7b588",
   "metadata": {},
   "outputs": [
    {
     "name": "stdout",
     "output_type": "stream",
     "text": [
      "[0 1 2 3 4 5 6 7 8 9]\n",
      "[1 7 0 6 2 8 5 3 9 4]\n"
     ]
    }
   ],
   "source": [
    "a = np.arange(10)\n",
    "print(a)\n",
    "np.random.shuffle(a)\n",
    "print(a)"
   ]
  },
  {
   "cell_type": "code",
   "execution_count": 51,
   "id": "6ce8f7dc",
   "metadata": {},
   "outputs": [
    {
     "name": "stdout",
     "output_type": "stream",
     "text": [
      "[[0 1 2]\n",
      " [3 4 5]\n",
      " [6 7 8]]\n"
     ]
    }
   ],
   "source": [
    "a = np.arange(9).reshape((3, 3))\n",
    "print(a)"
   ]
  },
  {
   "cell_type": "code",
   "execution_count": 52,
   "id": "58395fdd",
   "metadata": {},
   "outputs": [
    {
     "name": "stdout",
     "output_type": "stream",
     "text": [
      "[[3 4 5]\n",
      " [6 7 8]\n",
      " [0 1 2]]\n"
     ]
    }
   ],
   "source": [
    "b = np.random.permutation(a)\n",
    "print(b)"
   ]
  },
  {
   "cell_type": "code",
   "execution_count": 53,
   "id": "b3c3547b",
   "metadata": {},
   "outputs": [
    {
     "data": {
      "text/plain": [
       "array([  0,   1,   8,  27,  64, 125, 216, 343, 512, 729])"
      ]
     },
     "execution_count": 53,
     "metadata": {},
     "output_type": "execute_result"
    }
   ],
   "source": [
    "np.arange(0, 10)**3"
   ]
  },
  {
   "cell_type": "code",
   "execution_count": 54,
   "id": "7b804280",
   "metadata": {},
   "outputs": [],
   "source": [
    "s = np.array([-4, 5.6, 0, 0.1, 100.4, -3, 10])"
   ]
  },
  {
   "cell_type": "code",
   "execution_count": 55,
   "id": "8aedd565",
   "metadata": {},
   "outputs": [
    {
     "name": "stdout",
     "output_type": "stream",
     "text": [
      "[-4.000e+00 -3.000e+00  0.000e+00  1.000e-01  5.600e+00  1.000e+01\n",
      "  1.004e+02]\n"
     ]
    }
   ],
   "source": [
    "print(np.sort(s))"
   ]
  },
  {
   "cell_type": "code",
   "execution_count": 56,
   "id": "b5231a8f",
   "metadata": {},
   "outputs": [
    {
     "data": {
      "text/plain": [
       "array([[ 1, -3],\n",
       "       [ 3,  1],\n",
       "       [22,  4]])"
      ]
     },
     "execution_count": 56,
     "metadata": {},
     "output_type": "execute_result"
    }
   ],
   "source": [
    "a = np.array([[1,4],[3,1], [22, -3]])\n",
    "np.sort(a, axis=0) "
   ]
  },
  {
   "cell_type": "code",
   "execution_count": 57,
   "id": "d4f7895d",
   "metadata": {},
   "outputs": [
    {
     "data": {
      "text/plain": [
       "array([[ 1,  4],\n",
       "       [ 1,  3],\n",
       "       [-3, 22]])"
      ]
     },
     "execution_count": 57,
     "metadata": {},
     "output_type": "execute_result"
    }
   ],
   "source": [
    "np.sort(a, axis=1) "
   ]
  },
  {
   "cell_type": "code",
   "execution_count": null,
   "id": "ff0a84f9",
   "metadata": {},
   "outputs": [],
   "source": []
  }
 ],
 "metadata": {
  "kernelspec": {
   "display_name": "Python 3 (ipykernel)",
   "language": "python",
   "name": "python3"
  },
  "language_info": {
   "codemirror_mode": {
    "name": "ipython",
    "version": 3
   },
   "file_extension": ".py",
   "mimetype": "text/x-python",
   "name": "python",
   "nbconvert_exporter": "python",
   "pygments_lexer": "ipython3",
   "version": "3.9.5"
  }
 },
 "nbformat": 4,
 "nbformat_minor": 5
}
